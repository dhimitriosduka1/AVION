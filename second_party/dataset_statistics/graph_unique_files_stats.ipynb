{
 "cells": [
  {
   "cell_type": "code",
   "execution_count": 1,
   "id": "3a136a3e",
   "metadata": {},
   "outputs": [],
   "source": [
    "import json\n",
    "import matplotlib.pyplot as plt"
   ]
  },
  {
   "cell_type": "code",
   "execution_count": 2,
   "id": "ce96ad1f",
   "metadata": {},
   "outputs": [],
   "source": [
    "unique_captions_paths = {\n",
    "        \"original_ds\": \"/ptmp/dduka/databases/ego4d/unique_captions.json\",\n",
    "        \"temperature_0.7\": \"/ptmp/dduka/databases/ego4d/video_320px_15sec/lavila_captions_num_frames_4/temperature_0.7/unique_captions.json\",\n",
    "        \"temperature_1.0\": \"/ptmp/dduka/databases/ego4d/video_320px_15sec/lavila_captions_num_frames_4/temperature_1.0/unique_captions.json\",\n",
    "}"
   ]
  },
  {
   "cell_type": "code",
   "execution_count": null,
   "id": "0d5bf99d",
   "metadata": {},
   "outputs": [],
   "source": [
    "# dict_keys(['number_of_total_captions', 'number_of_unique_captions', 'percentage_of_unique_captions', 'unique_captions', 'preprocess_function'])\n",
    "captions_stats = {}\n",
    "for key, path in unique_captions_paths.items():\n",
    "    with open(path, \"r\") as f:\n",
    "        data = json.load(f)\n",
    "        \n",
    "        captions_stats[key] = {\n",
    "            \"number_of_total_captions\": data[\"number_of_total_captions\"],\n",
    "            \"number_of_unique_captions\": data[\"number_of_unique_captions\"],\n",
    "            \"percentage_of_unique_captions\": data[\"percentage_of_unique_captions\"],\n",
    "        }"
   ]
  },
  {
   "cell_type": "code",
   "execution_count": null,
   "id": "4a248c86",
   "metadata": {},
   "outputs": [],
   "source": [
    "print(captions_stats)"
   ]
  }
 ],
 "metadata": {
  "kernelspec": {
   "display_name": "Python 3",
   "language": "python",
   "name": "python3"
  },
  "language_info": {
   "codemirror_mode": {
    "name": "ipython",
    "version": 3
   },
   "file_extension": ".py",
   "mimetype": "text/x-python",
   "name": "python",
   "nbconvert_exporter": "python",
   "pygments_lexer": "ipython3",
   "version": "3.10.14"
  }
 },
 "nbformat": 4,
 "nbformat_minor": 5
}
