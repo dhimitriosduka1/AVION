{
 "cells": [
  {
   "cell_type": "code",
   "execution_count": 13,
   "id": "fca2b4d1",
   "metadata": {},
   "outputs": [],
   "source": [
    "import pickle\n",
    "import numpy as np\n",
    "\n",
    "import matplotlib.pyplot as plt\n",
    "\n",
    "from tqdm import tqdm"
   ]
  },
  {
   "cell_type": "code",
   "execution_count": 14,
   "id": "9e2f243b",
   "metadata": {},
   "outputs": [],
   "source": [
    "DATASET_PATH = \"/ptmp/dduka/databases/ego4d/video_320px_15sec\"\n",
    "DATASET_METADATA_PATH = \"/ptmp/dduka/databases/ego4d/ego4d_train.pkl\""
   ]
  },
  {
   "cell_type": "code",
   "execution_count": 15,
   "id": "679a52e3",
   "metadata": {},
   "outputs": [],
   "source": [
    "def extract_timestamps(data):\n",
    "    return [\n",
    "        {\n",
    "            \"t_start\": sample[1],\n",
    "            \"t_end\": sample[2],\n",
    "        }\n",
    "        for sample in data\n",
    "    ]\n",
    "\n",
    "\n",
    "def segment_length(timestamps):\n",
    "    return [timestamp[\"t_end\"] - timestamp[\"t_start\"] for timestamp in timestamps]\n",
    "\n",
    "from typing import List, Dict\n",
    "\n",
    "def overlap_stats(timestamps: List[Dict[str, float]],\n",
    "                  count_pairs_once: bool = True,\n",
    "                  nan_when_no_pairs: bool = True) -> Dict[str, float]:\n",
    "    \"\"\"\n",
    "    timestamps: [{\"t_start\": s, \"t_end\": e}, ...]\n",
    "    Touching intervals (end == start) are considered overlapping with 0 length.\n",
    "\n",
    "    Returns:\n",
    "      {\n",
    "        \"number_of_overlapping_segments\": <int>,  # unique pairs by default\n",
    "        \"mean_intersection_length\": <float>       # NaN (or 0.0) if no pairs\n",
    "      }\n",
    "    \"\"\"\n",
    "    # Normalize (ensure s <= e)\n",
    "    segs = [(s if s <= e else e, e if s <= e else s)\n",
    "            for s, e in ((d[\"t_start\"], d[\"t_end\"]) for d in timestamps)]\n",
    "    if not segs:\n",
    "        return {\"number_of_overlapping_segments\": 0,\n",
    "                \"mean_intersection_length\": float('nan') if nan_when_no_pairs else 0.0}\n",
    "\n",
    "    # Build events: start = +1, end = -1; for ties, process START before END\n",
    "    START, END = 1, -1\n",
    "    events = []\n",
    "    for s, e in segs:\n",
    "        events.append((s, START))\n",
    "        events.append((e, END))\n",
    "    events.sort(key=lambda x: (x[0], -x[1]))  # start before end at same time\n",
    "\n",
    "    active = 0\n",
    "    prev_t = None\n",
    "    total_overlap_len = 0.0\n",
    "    pair_count = 0\n",
    "\n",
    "    for t, kind in events:\n",
    "        if prev_t is not None:\n",
    "            dt = t - prev_t\n",
    "            if dt > 0:\n",
    "                # Each instant contributes C(active, 2) to the pairwise overlap \"density\"\n",
    "                total_overlap_len += (active * (active - 1) // 2) * dt\n",
    "\n",
    "        if kind == START:\n",
    "            # A new interval forms a pair with each currently active one\n",
    "            pair_count += active\n",
    "            active += 1\n",
    "        else:  # END\n",
    "            active -= 1\n",
    "\n",
    "        prev_t = t\n",
    "\n",
    "    mean_len = (total_overlap_len / pair_count) if pair_count else (\n",
    "        float('nan') if nan_when_no_pairs else 0.0\n",
    "    )\n",
    "\n",
    "    return {\n",
    "        \"number_of_overlapping_segments\": pair_count if count_pairs_once else 2 * pair_count,\n",
    "        \"mean_intersection_length\": mean_len,\n",
    "    }\n"
   ]
  },
  {
   "cell_type": "code",
   "execution_count": 18,
   "id": "4d17738b",
   "metadata": {},
   "outputs": [
    {
     "name": "stdout",
     "output_type": "stream",
     "text": [
      "('9e4edf4d-e557-4b3d-bc35-0d7f1f91019b',\n",
      " 3.8109597588600206,\n",
      " 4.440017441139981,\n",
      " '#C C carries a pot from the cooker')\n",
      "{'max': 110.19979007238021,\n",
      " 'mean': 1.0044330382788094,\n",
      " 'median': 0.7659646481824893,\n",
      " 'min': 0.012759183673469385,\n",
      " 'number_of_overlapping_segments': {'mean_intersection_length': 0.4954673481714565,\n",
      "                                    'number_of_overlapping_segments': 5913138755},\n",
      " 'std': 1.0104826914966607}\n"
     ]
    }
   ],
   "source": [
    "with open(DATASET_METADATA_PATH, \"rb\") as f:\n",
    "    data = pickle.load(f)\n",
    "    print(data[0])\n",
    "\n",
    "timestamps = extract_timestamps(data)\n",
    "\n",
    "segment_lengths = segment_length(timestamps)\n",
    "\n",
    "statistics = {\n",
    "    \"mean\": np.mean(segment_lengths),\n",
    "    \"median\": np.median(segment_lengths),\n",
    "    \"min\": np.min(segment_lengths),\n",
    "    \"max\": np.max(segment_lengths),\n",
    "    \"std\": np.std(segment_lengths),\n",
    "    \"number_of_overlapping_segments\": overlap_stats(timestamps),\n",
    "}\n",
    "\n",
    "print(statistics)"
   ]
  },
  {
   "cell_type": "code",
   "execution_count": 17,
   "id": "c3fe62fe",
   "metadata": {},
   "outputs": [
    {
     "data": {
      "image/png": "[encoded data removed]",
      "text/plain": [
       "<Figure size 1000x600 with 1 Axes>"
      ]
     },
     "metadata": {},
     "output_type": "display_data"
    }
   ],
   "source": [
    "# Plot the distribution of segment lengths\n",
    "plt.figure(figsize=(10, 6))\n",
    "plt.hist(segment_lengths, bins=100)\n",
    "plt.title('Segment Lengths Histogram')\n",
    "plt.xlabel('Length (seconds)')\n",
    "plt.ylabel('Density')\n",
    "plt.yscale('log')\n",
    "plt.grid(True, alpha=0.3)"
   ]
  }
 ],
 "metadata": {
  "kernelspec": {
   "display_name": "Python 3",
   "language": "python",
   "name": "python3"
  },
  "language_info": {
   "codemirror_mode": {
    "name": "ipython",
    "version": 3
   },
   "file_extension": ".py",
   "mimetype": "text/x-python",
   "name": "python",
   "nbconvert_exporter": "python",
   "pygments_lexer": "ipython3",
   "version": "3.10.14"
  }
 },
 "nbformat": 4,
 "nbformat_minor": 5
}
